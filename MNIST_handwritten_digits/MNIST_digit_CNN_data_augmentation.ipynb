{
  "nbformat": 4,
  "nbformat_minor": 0,
  "metadata": {
    "colab": {
      "name": "MNIST_digit_CNN_data_augmentation.ipynb",
      "provenance": [],
      "authorship_tag": "ABX9TyMJYU4B8Ek4M0NRJY4Mo0SB",
      "include_colab_link": true
    },
    "kernelspec": {
      "name": "python3",
      "display_name": "Python 3"
    },
    "accelerator": "GPU"
  },
  "cells": [
    {
      "cell_type": "markdown",
      "metadata": {
        "id": "view-in-github",
        "colab_type": "text"
      },
      "source": [
        "<a href=\"https://colab.research.google.com/github/lorenzophys/deep-learning-playground/blob/main/MNIST_digit_CNN_data_augmentation.ipynb\" target=\"_parent\"><img src=\"https://colab.research.google.com/assets/colab-badge.svg\" alt=\"Open In Colab\"/></a>"
      ]
    },
    {
      "cell_type": "markdown",
      "metadata": {
        "id": "Zo5VPNtGQaHl"
      },
      "source": [
        "# MNIST digit CNN with data augmentation."
      ]
    },
    {
      "cell_type": "code",
      "metadata": {
        "id": "VYdHxfKrQanS"
      },
      "source": [
        "import numpy as np\n",
        "import matplotlib.pyplot as plt\n",
        "import tensorflow as tf\n",
        "from tensorflow import keras\n",
        "from scipy.stats import norm\n",
        "from keras.preprocessing.image import ImageDataGenerator"
      ],
      "execution_count": null,
      "outputs": []
    },
    {
      "cell_type": "markdown",
      "metadata": {
        "id": "kdoLXN-AXW27"
      },
      "source": [
        "Loading the data from Keras."
      ]
    },
    {
      "cell_type": "code",
      "metadata": {
        "id": "OT7b-U37QrHY"
      },
      "source": [
        "(train_images, train_labels), (test_images, test_labels) = keras.datasets.mnist.load_data()"
      ],
      "execution_count": null,
      "outputs": []
    },
    {
      "cell_type": "markdown",
      "metadata": {
        "id": "lELGnwU-XbKI"
      },
      "source": [
        "Check the shapes of the images."
      ]
    },
    {
      "cell_type": "code",
      "metadata": {
        "colab": {
          "base_uri": "https://localhost:8080/"
        },
        "id": "jilasCTZQ3bJ",
        "outputId": "9e9be0fd-8333-42af-fc40-6a842536b212"
      },
      "source": [
        "print('Train', train_images.shape, train_labels.shape)\n",
        "print('Test', test_images.shape, test_labels.shape)"
      ],
      "execution_count": null,
      "outputs": [
        {
          "output_type": "stream",
          "text": [
            "Train (60000, 28, 28) (60000,)\n",
            "Test (10000, 28, 28) (10000,)\n"
          ],
          "name": "stdout"
        }
      ]
    },
    {
      "cell_type": "markdown",
      "metadata": {
        "id": "g_LMyE1CXfl4"
      },
      "source": [
        "The images must be reshaped before being fed into the convolutional layer."
      ]
    },
    {
      "cell_type": "code",
      "metadata": {
        "colab": {
          "base_uri": "https://localhost:8080/"
        },
        "id": "SUorgS1xQ38r",
        "outputId": "7a02cd26-0adb-488e-a157-969940da1375"
      },
      "source": [
        "train_images = train_images.reshape(-1,28,28,1)\n",
        "test_images = test_images.reshape(-1,28,28,1)\n",
        "\n",
        "print('Train', train_images.shape, train_labels.shape)\n",
        "print('Test', test_images.shape, test_labels.shape)"
      ],
      "execution_count": null,
      "outputs": [
        {
          "output_type": "stream",
          "text": [
            "Train (60000, 28, 28, 1) (60000,)\n",
            "Test (10000, 28, 28, 1) (10000,)\n"
          ],
          "name": "stdout"
        }
      ]
    },
    {
      "cell_type": "markdown",
      "metadata": {
        "id": "Kkv2QygpXjAk"
      },
      "source": [
        "Normalization. Normally you should check, but I already know that the pixels range from 0 to 255."
      ]
    },
    {
      "cell_type": "code",
      "metadata": {
        "id": "RYgiafVwQ6hU"
      },
      "source": [
        "train_images, test_images = train_images/255., test_images/255."
      ],
      "execution_count": null,
      "outputs": []
    },
    {
      "cell_type": "markdown",
      "metadata": {
        "id": "sAIMgq3oc0mU"
      },
      "source": [
        "I want to see if the model improves with data augmentation. Horizontal and vertical flip are set to false by default, but I wanted to explicity show that flipping is a bad idea when the data is not invariant under such transformations. Example: 9 and 6."
      ]
    },
    {
      "cell_type": "code",
      "metadata": {
        "id": "kx0vbb6sQ9xc"
      },
      "source": [
        "datagen = ImageDataGenerator(rotation_range=10,\n",
        "                             width_shift_range=0.1,\n",
        "                             shear_range=0.2,\n",
        "                             height_shift_range=0.1,\n",
        "                             zoom_range=0.1,\n",
        "                             horizontal_flip=False,\n",
        "                             vertical_flip=False)"
      ],
      "execution_count": null,
      "outputs": []
    },
    {
      "cell_type": "markdown",
      "metadata": {
        "id": "tbFWw3JUdRo4"
      },
      "source": [
        "For this experiment I chose batch normalization layers instead of dropuout. This allows me to reduce the internal covariate shift and speed up the training process. This also allows the net to avoid overfitting without using of dropout. [1]"
      ]
    },
    {
      "cell_type": "code",
      "metadata": {
        "id": "M-FMOz6HSqBN"
      },
      "source": [
        "model = keras.models.Sequential()\n",
        "\n",
        "model.add(keras.layers.Conv2D(filters=32, kernel_size=5, padding=\"same\", activation=\"relu\", input_shape=(28, 28, 1)))\n",
        "model.add(keras.layers.BatchNormalization())\n",
        "model.add(keras.layers.Conv2D(filters=32, kernel_size=5, strides=2, padding=\"same\", activation=\"relu\"))\n",
        "model.add(keras.layers.BatchNormalization())\n",
        "\n",
        "model.add(keras.layers.Conv2D(filters=64, kernel_size=5, padding=\"same\", activation=\"relu\"))\n",
        "model.add(keras.layers.BatchNormalization())\n",
        "model.add(keras.layers.Conv2D(filters=64, kernel_size=5, strides=2, padding=\"same\", activation=\"relu\"))\n",
        "model.add(keras.layers.BatchNormalization())\n",
        "\n",
        "model.add(keras.layers.Flatten())\n",
        "model.add(keras.layers.Dense(256, activation='relu'))\n",
        "model.add(keras.layers.Dense(10, activation='softmax'))\n",
        "\n",
        "model.compile(optimizer=\"adam\", loss=\"sparse_categorical_crossentropy\", metrics=[\"accuracy\"])"
      ],
      "execution_count": null,
      "outputs": []
    },
    {
      "cell_type": "code",
      "metadata": {
        "id": "nuYv2fj3WWu1"
      },
      "source": [
        "epochs = 50\n",
        "steps_per_epoch = train_images.shape[0]//64"
      ],
      "execution_count": null,
      "outputs": []
    },
    {
      "cell_type": "code",
      "metadata": {
        "id": "8GWpO0UwU3Wa"
      },
      "source": [
        "history = model.fit(datagen.flow(train_images, train_labels, batch_size=64),\n",
        "                                  epochs=epochs, \n",
        "                                  steps_per_epoch=steps_per_epoch,  \n",
        "                                  validation_data=(test_images, test_labels))"
      ],
      "execution_count": null,
      "outputs": []
    },
    {
      "cell_type": "code",
      "metadata": {
        "colab": {
          "base_uri": "https://localhost:8080/",
          "height": 356
        },
        "id": "_IDylA_gYi-H",
        "outputId": "6849c0e6-259f-47a7-b3c1-851283f6bc3d"
      },
      "source": [
        "print(f\"Max validation accuracy: {np.max(model.history.history['val_accuracy']):.5f}\")\n",
        "plt.figure(figsize=(15,5))\n",
        "plt.plot(model.history.history[\"val_accuracy\"])\n",
        "plt.plot(model.history.history[\"accuracy\"])\n",
        "\n",
        "plt.ylabel('accuracy')\n",
        "plt.xlabel('epoch')\n",
        "plt.legend([\"Validation\", \"Training\"])\n",
        "plt.gca().set_ylim([0.98,1])\n",
        "plt.show()"
      ],
      "execution_count": null,
      "outputs": [
        {
          "output_type": "stream",
          "text": [
            "Max validation accuracy: 0.99620\n"
          ],
          "name": "stdout"
        },
        {
          "output_type": "display_data",
          "data": {
            "image/png": "[encoded data removed]",
            "text/plain": [
              "<Figure size 1080x360 with 1 Axes>"
            ]
          },
          "metadata": {
            "tags": [],
            "needs_background": "light"
          }
        }
      ]
    },
    {
      "cell_type": "markdown",
      "metadata": {
        "id": "p0vXphsAe3Gd"
      },
      "source": [
        "[1] Ioffe S., Szegedy C., *Batch Normalization: Accelerating Deep Network Training byReducing Internal Covariate Shift*, 2015.\n",
        "ArXiv: https://arxiv.org/pdf/1502.03167.pdf"
      ]
    },
    {
      "cell_type": "markdown",
      "metadata": {
        "id": "IEs46wllnriR"
      },
      "source": [
        "Let's see what's the accuracy distribution. The plan was to train 100 models, but colab runs out of ram after the 30th model. So I stop at 25."
      ]
    },
    {
      "cell_type": "code",
      "metadata": {
        "id": "q70rZUgcg0Bx"
      },
      "source": [
        "ensemble = [0] * 100"
      ],
      "execution_count": null,
      "outputs": []
    },
    {
      "cell_type": "code",
      "metadata": {
        "id": "F-MbxGrUhEBo"
      },
      "source": [
        "for i in range(100):\n",
        "  ensemble[i] = keras.models.Sequential()\n",
        "\n",
        "  ensemble[i].add(keras.layers.Conv2D(filters=32, kernel_size=5, padding=\"same\", activation=\"relu\", input_shape=(28, 28, 1)))\n",
        "  ensemble[i].add(keras.layers.BatchNormalization())\n",
        "  ensemble[i].add(keras.layers.Conv2D(filters=32, kernel_size=5, strides=2, padding=\"same\", activation=\"relu\"))\n",
        "  ensemble[i].add(keras.layers.BatchNormalization())\n",
        "\n",
        "  ensemble[i].add(keras.layers.Conv2D(filters=64, kernel_size=5, padding=\"same\", activation=\"relu\"))\n",
        "  ensemble[i].add(keras.layers.BatchNormalization())\n",
        "  ensemble[i].add(keras.layers.Conv2D(filters=64, kernel_size=5, strides=2, padding=\"same\", activation=\"relu\"))\n",
        "  ensemble[i].add(keras.layers.BatchNormalization())\n",
        "\n",
        "  ensemble[i].add(keras.layers.Flatten())\n",
        "  ensemble[i].add(keras.layers.Dense(256, activation='relu'))\n",
        "  ensemble[i].add(keras.layers.Dense(10, activation='softmax'))\n",
        "\n",
        "  ensemble[i].compile(optimizer=\"adam\", loss=\"sparse_categorical_crossentropy\", metrics=[\"accuracy\"])"
      ],
      "execution_count": null,
      "outputs": []
    },
    {
      "cell_type": "code",
      "metadata": {
        "id": "QU4OM0ZyhWwe"
      },
      "source": [
        "history_ensemble = [0] * 100\n",
        "epochs_ensemble = 15\n",
        "ensemble_accuracy = []"
      ],
      "execution_count": null,
      "outputs": []
    },
    {
      "cell_type": "code",
      "metadata": {
        "colab": {
          "base_uri": "https://localhost:8080/"
        },
        "id": "c8UPSw34hjJ2",
        "outputId": "6981de4f-df79-4735-d2d0-53db22fb65f5"
      },
      "source": [
        "for i in range(25):\n",
        "  history_ensemble[i] = ensemble[i].fit(datagen.flow(train_images, train_labels, batch_size=64),\n",
        "                                    epochs=epochs_ensemble, \n",
        "                                    steps_per_epoch=steps_per_epoch,  \n",
        "                                    validation_data=(test_images, test_labels),\n",
        "                                    verbose=0)\n",
        "  ensemble_accuracy.append(np.max(history_ensemble[i].history['val_accuracy']))\n",
        "  print(f\"{i} Best accuracy: {np.max(history_ensemble[i].history['val_accuracy'])}\")"
      ],
      "execution_count": null,
      "outputs": [
        {
          "output_type": "stream",
          "text": [
            "0 Best accuracy: 0.9955999851226807\n",
            "1 Best accuracy: 0.9954000115394592\n",
            "2 Best accuracy: 0.9948999881744385\n",
            "3 Best accuracy: 0.9952999949455261\n",
            "4 Best accuracy: 0.9952999949455261\n",
            "5 Best accuracy: 0.9952999949455261\n",
            "6 Best accuracy: 0.9944000244140625\n",
            "7 Best accuracy: 0.9939000010490417\n",
            "8 Best accuracy: 0.9952999949455261\n",
            "9 Best accuracy: 0.9952999949455261\n",
            "10 Best accuracy: 0.9939000010490417\n",
            "11 Best accuracy: 0.9948999881744385\n",
            "12 Best accuracy: 0.9940999746322632\n",
            "13 Best accuracy: 0.9950000047683716\n",
            "14 Best accuracy: 0.994700014591217\n",
            "15 Best accuracy: 0.9950000047683716\n",
            "16 Best accuracy: 0.9943000078201294\n",
            "17 Best accuracy: 0.994700014591217\n",
            "18 Best accuracy: 0.9943000078201294\n",
            "19 Best accuracy: 0.9947999715805054\n",
            "20 Best accuracy: 0.9945999979972839\n",
            "21 Best accuracy: 0.995199978351593\n",
            "22 Best accuracy: 0.994700014591217\n",
            "23 Best accuracy: 0.9945999979972839\n",
            "24 Best accuracy: 0.9954000115394592\n"
          ],
          "name": "stdout"
        }
      ]
    },
    {
      "cell_type": "code",
      "metadata": {
        "colab": {
          "base_uri": "https://localhost:8080/",
          "height": 283
        },
        "id": "KmQv3pArm6_9",
        "outputId": "173929e6-ceff-4acb-a81f-3e7d8462948e"
      },
      "source": [
        "mu, std = norm.fit(ensemble_accuracy)\n",
        "print(f\"mu = {mu:.4f}, std = {std:.4f}\")\n",
        "plt.hist(ensemble_accuracy, bins=10)\n",
        "plt.show()"
      ],
      "execution_count": null,
      "outputs": [
        {
          "output_type": "stream",
          "text": [
            "mu = 0.9948, std = 0.0005\n"
          ],
          "name": "stdout"
        },
        {
          "output_type": "display_data",
          "data": {
            "image/png": "[encoded data removed]",
            "text/plain": [
              "<Figure size 432x288 with 1 Axes>"
            ]
          },
          "metadata": {
            "tags": [],
            "needs_background": "light"
          }
        }
      ]
    }
  ]
}