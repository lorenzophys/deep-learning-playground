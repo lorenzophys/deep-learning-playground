{
 "nbformat": 4,
 "nbformat_minor": 0,
 "metadata": {
  "colab": {
   "name": "MNIST_digit_architecture_comparison.ipynb",
   "provenance": [],
   "authorship_tag": "ABX9TyMlskQabHJ84BgmuZaA12Od",
   "include_colab_link": true
  },
  "kernelspec": {
   "name": "python3",
   "language": "python",
   "display_name": "Python 3"
  }
 },
 "cells": [
  {
   "cell_type": "markdown",
   "metadata": {
    "id": "view-in-github",
    "colab_type": "text"
   },
   "source": [
    "<a href=\"https://colab.research.google.com/github/lorenzophys/deep-learning-playground/blob/main/MNIST_digit_architecture_comparison.ipynb\" target=\"_parent\"><img src=\"https://colab.research.google.com/assets/colab-badge.svg\" alt=\"Open In Colab\"/></a>"
   ]
  },
  {
   "cell_type": "markdown",
   "metadata": {
    "id": "cMOww4H6ogjk"
   },
   "source": [
    "# MNIST digit architecture comparison."
   ]
  },
  {
   "cell_type": "code",
   "metadata": {
    "id": "pgFeiBwUokVq"
   },
   "source": [
    "import matplotlib.pyplot as plt\n",
    "import numpy as np\n",
    "from scipy.stats import norm"
   ],
   "execution_count": 1,
   "outputs": []
  },
  {
   "cell_type": "code",
   "metadata": {
    "id": "rvDxWElkoz7l"
   },
   "source": [
    "ensemble_DNN = {\"mu\":0.9811, \"std\":0.0009}\n",
    "ensemble_CNN = {\"mu\":0.9939, \"std\":0.0005}\n",
    "ensemble_CNN_DA = {\"mu\":0.9948, \"std\":0.0005}"
   ],
   "execution_count": 6,
   "outputs": []
  },
  {
   "cell_type": "code",
   "metadata": {
    "colab": {
     "base_uri": "https://localhost:8080/",
     "height": 334
    },
    "id": "EbN-f6c9plzM",
    "outputId": "876d904c-8d6a-4bdf-d585-882c46ead184"
   },
   "source": [
    "x = np.arange(0.975, 1, 0.00001)\n",
    "y_DNN =  norm(ensemble_DNN[\"mu\"], ensemble_DNN[\"std\"])\n",
    "y_CNN = norm(ensemble_CNN[\"mu\"], ensemble_CNN[\"std\"])\n",
    "y_CNN_DA =  norm(ensemble_CNN_DA[\"mu\"], ensemble_CNN_DA[\"std\"])\n",
    "\n",
    "plt.figure(figsize=(15,5))\n",
    "\n",
    "plt.plot(x, y_DNN.pdf(x))\n",
    "plt.plot(x, y_CNN.pdf(x))\n",
    "plt.plot(x, y_CNN_DA.pdf(x))\n",
    "\n",
    "plt.xlabel('accuracy')\n",
    "plt.legend([\"DNN\", \"CNN\", \"CNN w/ data augm.\"])\n",
    "\n",
    "plt.savefig('../img/MNIST_digit_comparison.png')\n",
    "\n",
    "plt.show()"
   ],
   "execution_count": null,
   "outputs": []
  }
 ]
}